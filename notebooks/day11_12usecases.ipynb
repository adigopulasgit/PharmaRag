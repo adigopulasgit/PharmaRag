{
 "cells": [
  {
   "cell_type": "code",
   "execution_count": 2,
   "metadata": {},
   "outputs": [
    {
     "name": "stderr",
     "output_type": "stream",
     "text": [
      "Device set to use mps\n"
     ]
    }
   ],
   "source": [
    "from pathlib import Path\n",
    "import pickle, faiss\n",
    "import pandas as pd\n",
    "import matplotlib.pyplot as plt\n",
    "from sentence_transformers import SentenceTransformer\n",
    "from transformers import pipeline\n",
    "import numpy as np\n",
    "\n",
    "# reload faiss + metadata\n",
    "processed_dir = Path(\"../data/processed\")\n",
    "index = faiss.read_index(str(processed_dir / \"evidence_faiss.index\"))\n",
    "with open(processed_dir / \"id_to_row.pkl\", \"rb\") as f:\n",
    "    id_to_row = pickle.load(f)\n",
    "\n",
    "# embedder + summarizer\n",
    "model = SentenceTransformer(\"all-MiniLM-L6-v2\")\n",
    "rag_llm = pipeline(\"text2text-generation\", model=\"google/flan-t5-base\", device_map=\"auto\")\n",
    "\n",
    "def retrieve(query, k=20):\n",
    "    q_emb = model.encode([query], convert_to_numpy=True).astype(\"float32\")\n",
    "    faiss.normalize_L2(q_emb)\n",
    "    scores, idxs = index.search(q_emb, k)\n",
    "    return [{**id_to_row[int(i)], \"score\": float(s)} for s,i in zip(scores[0], idxs[0])]\n",
    "\n",
    "def cite_block(evidence):\n",
    "    lines=[]\n",
    "    for e in evidence:\n",
    "        ligand = e.get(\"ligand\") or e.get(\"smiles\")\n",
    "        lines.append(f\"{ligand} | Target={e['target']} | {e['activity_type']}={e['value']} | p={e['pValue']}\")\n",
    "    return \"\\n\".join(lines)\n",
    "\n",
    "def summarize(query, hits, max_new_tokens=256):\n",
    "    context = cite_block(hits)\n",
    "    prompt = (\n",
    "        \"You are a scientific assistant. Summarize the evidence below in 3–5 bullets. \"\n",
    "        \"Each bullet MUST include a citation with ligand/target/value in parentheses.\\n\\n\"\n",
    "        f\"Question: {query}\\nEvidence:\\n{context}\\n\\nSummary:\"\n",
    "    )\n",
    "    return rag_llm(prompt, max_new_tokens=max_new_tokens, truncation=True)[0][\"generated_text\"]\n"
   ]
  },
  {
   "cell_type": "code",
   "execution_count": 3,
   "metadata": {},
   "outputs": [
    {
     "name": "stdout",
     "output_type": "stream",
     "text": [
      "CYP2D6 inhibitors with IC50  50 nM\n"
     ]
    },
    {
     "data": {
      "image/png": "[encoded data removed]",
      "text/plain": [
       "<Figure size 640x480 with 1 Axes>"
      ]
     },
     "metadata": {},
     "output_type": "display_data"
    }
   ],
   "source": [
    "query = \"CYP2D6 inhibitors with IC50 < 50 nM\"\n",
    "hits = retrieve(query, k=50)\n",
    "\n",
    "# summarize\n",
    "print(summarize(query, hits[:5]))\n",
    "\n",
    "# visualize IC50 distribution\n",
    "vals = [float(h[\"value\"]) for h in hits if h[\"value\"] not in (None,\"\") and str(h[\"value\"]).replace(\".\",\"\",1).isdigit()]\n",
    "plt.hist(vals, bins=20)\n",
    "plt.xlabel(\"IC50 (nM)\")\n",
    "plt.ylabel(\"count\")\n",
    "plt.title(\"CYP2D6 inhibitors — IC50 distribution\")\n",
    "plt.show()\n"
   ]
  },
  {
   "cell_type": "code",
   "execution_count": 21,
   "metadata": {},
   "outputs": [
    {
     "name": "stdout",
     "output_type": "stream",
     "text": [
      "hERG blockers\n",
      "⚠️ No valid numeric values found in retrieved hERG hits (check your dataset).\n"
     ]
    }
   ],
   "source": [
    "import math\n",
    "\n",
    "query = \"hERG blockers\"\n",
    "hits = retrieve(query, k=50)\n",
    "\n",
    "print(summarize(query, hits[:5]))\n",
    "\n",
    "vals = []\n",
    "for h in hits:\n",
    "    # prefer pValue, fall back to value\n",
    "    v = h.get(\"pValue\") or h.get(\"value\")\n",
    "    try:\n",
    "        v = float(v)\n",
    "        if not math.isnan(v) and not math.isinf(v):\n",
    "            vals.append(v)\n",
    "    except:\n",
    "        continue\n",
    "\n",
    "if len(vals) == 0:\n",
    "    print(\"⚠️ No valid numeric values found in retrieved hERG hits (check your dataset).\")\n",
    "else:\n",
    "    plt.hist(vals, bins=20, color=\"red\")\n",
    "    plt.xlabel(\"Potency (pIC50 / IC50 nM)\")\n",
    "    plt.ylabel(\"Count\")\n",
    "    plt.title(\"hERG blockers potency distribution\")\n",
    "    plt.show()\n"
   ]
  },
  {
   "cell_type": "code",
   "execution_count": 23,
   "metadata": {},
   "outputs": [],
   "source": [
    "query = \"hERG IC50\"\n",
    "hits = retrieve(query, k=50)\n"
   ]
  },
  {
   "cell_type": "code",
   "execution_count": 27,
   "metadata": {},
   "outputs": [
    {
     "name": "stdout",
     "output_type": "stream",
     "text": [
      "Available columns: ['smiles', 'inchikey', 'ligand_name', 'target', 'activity_type', 'value', 'pValue', 'evidence_text', 'score']\n",
      "                                              smiles  \\\n",
      "0  O=C(COC(=O)c1cc(nc2ccccc12)-c1ccco1)N1CCN(CC1)...   \n",
      "1  C[C@@H](CN1CCC(CC1)n1c2ccc(Br)cc2[nH]c1=O)NC(=...   \n",
      "2  COc1ccc(cc1)C1(NC(=N)N(C2CCN(CC2)C(=O)OC(C)(C)...   \n",
      "3            Cc1cccc(CN2CCn3nnnc3C2c2ccc3OCCOc3c2)c1   \n",
      "4  Cn1c(c(I)c2cc(C(O)=O)c(O)cc12)-c1cccc(NC(=O)C(...   \n",
      "5  Cc1ccc(Cc2cc(O)c(O)c(c2)C(=O)NC\\C=C\\[C@H]2O[C@...   \n",
      "6  FC(F)(F)OCCNC(=O)c1ccc2cc(Oc3ccc(cn3)C(F)(F)F)...   \n",
      "7  CC#Cc1cncc(c1)-c1cn(C)c2cc(ccc12)S(=O)(=O)Nc1n...   \n",
      "8   CN1\\C(=C\\C=C2\\SC(=S)N(CC=C)C2=O)C(C)(C)c2ccccc12   \n",
      "9                  Nc1ccc2C(=O)N3CCSC3(c2c1)c1ccccc1   \n",
      "\n",
      "                      inchikey ligand_name target activity_type  value  \\\n",
      "0  HMSBOTBYKOECEA-UHFFFAOYSA-N        None   None          IC50   5920   \n",
      "1  JSVNNLRZCJAYTQ-ORYQWCPZSA-N        None   None          IC50   6400   \n",
      "2  QOGWENXQKQHNGY-UHFFFAOYSA-N        None   None          IC50   6010   \n",
      "3  FLNJGAKMIMIYES-UHFFFAOYSA-N        None   None          IC50   5445   \n",
      "4  WILZWITYAQZYKV-UHFFFAOYSA-N        None   None          IC50   3300   \n",
      "5  FFSCJXJCNPYSCS-BFVVLOROSA-N        None   None          IC50    608   \n",
      "6  RIVVRINDGCXJJO-UHFFFAOYSA-N        None   None          IC50   3290   \n",
      "7  WMYHFLJZNYAPJW-UHFFFAOYSA-N        None   None          IC50   3290   \n",
      "8  BNRSQCUOPLBUHF-RWPWKDLBSA-N        None   None          IC50   5940   \n",
      "9  XQDYHKPBFXMTHA-UHFFFAOYSA-N        None   None          IC50   4500   \n",
      "\n",
      "     pValue                                      evidence_text     score  \n",
      "0  5.227678  Ligand: None, Target: None, Activity: IC50, Va...  0.403413  \n",
      "1  5.193820  Ligand: None, Target: None, Activity: IC50, Va...  0.401686  \n",
      "2  5.221126  Ligand: None, Target: None, Activity: IC50, Va...  0.400147  \n",
      "3  5.264002  Ligand: None, Target: None, Activity: IC50, Va...  0.400009  \n",
      "4  5.481486  Ligand: None, Target: None, Activity: IC50, Va...  0.399835  \n",
      "5  6.216096  Ligand: None, Target: None, Activity: IC50, Va...  0.399758  \n",
      "6  5.482804  Ligand: None, Target: None, Activity: IC50, Va...  0.399043  \n",
      "7  5.482804  Ligand: None, Target: None, Activity: IC50, Va...  0.399043  \n",
      "8  5.226214  Ligand: None, Target: None, Activity: IC50, Va...  0.399030  \n",
      "9  5.346787  Ligand: None, Target: None, Activity: IC50, Va...  0.398885  \n"
     ]
    }
   ],
   "source": [
    "import pandas as pd\n",
    "\n",
    "df = pd.DataFrame(hits)\n",
    "print(\"Available columns:\", df.columns.tolist())\n",
    "print(df.head(10))\n"
   ]
  },
  {
   "cell_type": "code",
   "execution_count": 28,
   "metadata": {},
   "outputs": [
    {
     "name": "stdout",
     "output_type": "stream",
     "text": [
      "  ligand_name                                             smiles target  \\\n",
      "0        None  O=C(COC(=O)c1cc(nc2ccccc12)-c1ccco1)N1CCN(CC1)...   None   \n",
      "1        None  C[C@@H](CN1CCC(CC1)n1c2ccc(Br)cc2[nH]c1=O)NC(=...   None   \n",
      "2        None  COc1ccc(cc1)C1(NC(=N)N(C2CCN(CC2)C(=O)OC(C)(C)...   None   \n",
      "3        None            Cc1cccc(CN2CCn3nnnc3C2c2ccc3OCCOc3c2)c1   None   \n",
      "4        None  Cn1c(c(I)c2cc(C(O)=O)c(O)cc12)-c1cccc(NC(=O)C(...   None   \n",
      "5        None  Cc1ccc(Cc2cc(O)c(O)c(c2)C(=O)NC\\C=C\\[C@H]2O[C@...   None   \n",
      "6        None  FC(F)(F)OCCNC(=O)c1ccc2cc(Oc3ccc(cn3)C(F)(F)F)...   None   \n",
      "7        None  CC#Cc1cncc(c1)-c1cn(C)c2cc(ccc12)S(=O)(=O)Nc1n...   None   \n",
      "8        None   CN1\\C(=C\\C=C2\\SC(=S)N(CC=C)C2=O)C(C)(C)c2ccccc12   None   \n",
      "9        None                  Nc1ccc2C(=O)N3CCSC3(c2c1)c1ccccc1   None   \n",
      "\n",
      "  activity_type  value    pValue  \n",
      "0          IC50   5920  5.227678  \n",
      "1          IC50   6400  5.193820  \n",
      "2          IC50   6010  5.221126  \n",
      "3          IC50   5445  5.264002  \n",
      "4          IC50   3300  5.481486  \n",
      "5          IC50    608  6.216096  \n",
      "6          IC50   3290  5.482804  \n",
      "7          IC50   3290  5.482804  \n",
      "8          IC50   5940  5.226214  \n",
      "9          IC50   4500  5.346787  \n"
     ]
    }
   ],
   "source": [
    "cols = [c for c in [\"ligand\",\"ligand_name\",\"smiles\",\"target\",\"activity_type\",\"value\",\"pValue\"] if c in df.columns]\n",
    "print(df[cols].head(10))\n"
   ]
  },
  {
   "cell_type": "code",
   "execution_count": 30,
   "metadata": {},
   "outputs": [],
   "source": [
    "def retrieve(query, k=5):\n",
    "    \"\"\"Search FAISS index with query and return top-k evidence rows.\"\"\"\n",
    "    q_emb = model.encode([query], convert_to_numpy=True).astype(\"float32\")\n",
    "    faiss.normalize_L2(q_emb)\n",
    "    scores, idxs = index.search(q_emb, k)\n",
    "    \n",
    "    results = []\n",
    "    for score, i in zip(scores[0], idxs[0]):\n",
    "        row = id_to_row[i]\n",
    "\n",
    "        # standardize keys so they are always present\n",
    "        results.append({\n",
    "            \"score\": float(score),\n",
    "            \"ligand\": row.get(\"ligand_name\") or row.get(\"Ligand\") or None,\n",
    "            \"smiles\": row.get(\"smiles\") or row.get(\"SMILES\") or None,\n",
    "            \"target\": row.get(\"target\") or row.get(\"Target\") or None,\n",
    "            \"activity_type\": row.get(\"activity_type\") or row.get(\"Activity\") or None,\n",
    "            \"value\": row.get(\"value\") or row.get(\"Value\") or None,\n",
    "            \"pValue\": row.get(\"pValue\") or row.get(\"pIC50\") or None\n",
    "        })\n",
    "    return results\n",
    "\n"
   ]
  },
  {
   "cell_type": "code",
   "execution_count": 31,
   "metadata": {},
   "outputs": [
    {
     "name": "stdout",
     "output_type": "stream",
     "text": [
      "hERG blockers\n",
      "Columns: ['score', 'ligand', 'smiles', 'target', 'activity_type', 'value', 'pValue']\n",
      "      score    ligand                                             smiles  \\\n",
      "0  0.156831  TOX14383  COc1cc(OC)nc(Oc2cccc(Oc3nc(OC)cc(OC)n3)c2C(=O)...   \n",
      "1  0.155865  TOX27155                            N[C@@H](CCC(=O)O)C(=O)O   \n",
      "2  0.155821   TOX7887  CCCCC(CC)COC(=O)c1c(Br)c(Br)c(Br)c(Br)c1C(=O)O...   \n",
      "3  0.153447  TOX27769                                      NCCc1cc[nH]n1   \n",
      "4  0.152272  TOX28961                 Cc1ccc(Nc2c(F)cccc2Cl)c(CC(=O)O)c1   \n",
      "5  0.151810  TOX27095                                 CCOC(=O)CCc1ccccc1   \n",
      "6  0.151768  TOX27309                Cc1c(-c2cccnc2)c2ccccc2n1CCCCC(=O)O   \n",
      "7  0.151226  TOX28802                            CCC(N)Cc1c[nH]c2ccccc12   \n",
      "8  0.149563   TOX7658                                CCCCCCCCS(=O)(=O)Cl   \n",
      "9  0.148427  TOX27675                                    CC1CCCC(=O)C1=O   \n",
      "\n",
      "          target  activity_type  value  pValue  \n",
      "0  NR-PPAR-gamma  NR-PPAR-gamma    NaN     NaN  \n",
      "1  NR-PPAR-gamma  NR-PPAR-gamma    NaN     NaN  \n",
      "2         SR-HSE         SR-HSE    NaN     NaN  \n",
      "3  NR-PPAR-gamma  NR-PPAR-gamma    NaN     NaN  \n",
      "4         SR-HSE         SR-HSE    NaN     NaN  \n",
      "5         SR-HSE         SR-HSE    NaN     NaN  \n",
      "6  NR-PPAR-gamma  NR-PPAR-gamma    NaN     NaN  \n",
      "7  NR-PPAR-gamma  NR-PPAR-gamma    NaN     NaN  \n",
      "8         SR-HSE         SR-HSE    NaN     NaN  \n",
      "9         SR-HSE         SR-HSE    NaN     NaN  \n",
      "⚠️ No valid numeric values found in hERG hits.\n"
     ]
    }
   ],
   "source": [
    "import math\n",
    "import pandas as pd\n",
    "\n",
    "query = \"hERG blockers\"\n",
    "hits = retrieve(query, k=50)\n",
    "\n",
    "# summarize with citations\n",
    "print(summarize(query, hits[:5]))\n",
    "\n",
    "# make DataFrame for inspection\n",
    "df = pd.DataFrame(hits)\n",
    "print(\"Columns:\", df.columns.tolist())\n",
    "print(df.head(10))\n",
    "\n",
    "# use pValue if available, else fall back to value\n",
    "vals = []\n",
    "for h in hits:\n",
    "    v = h.get(\"pValue\") or h.get(\"value\")\n",
    "    try:\n",
    "        v = float(v)\n",
    "        if not math.isnan(v) and not math.isinf(v):\n",
    "            vals.append(v)\n",
    "    except:\n",
    "        continue\n",
    "\n",
    "if len(vals) == 0:\n",
    "    print(\"⚠️ No valid numeric values found in hERG hits.\")\n",
    "else:\n",
    "    plt.hist(vals, bins=20, color=\"red\")\n",
    "    plt.xlabel(\"Potency (pIC50 / IC50 nM)\")\n",
    "    plt.ylabel(\"Count\")\n",
    "    plt.title(\"hERG blockers potency distribution\")\n",
    "    plt.show()\n"
   ]
  },
  {
   "cell_type": "code",
   "execution_count": 20,
   "metadata": {},
   "outputs": [
    {
     "name": "stdout",
     "output_type": "stream",
     "text": [
      "CC1=CCC(C)(C)O)CC1 | Target=NR-AhR | NR-AhR=0.0 | p=nan O=C(O)COCC(C)O | Target=NR-ER | NR-ER=0.0 | p=nan O=C(O)COCC(C)O | Target=NR-ER | NR-ER=0.0 | p=nan O=C(O)COCC(C)O | Target=NR-ER | NR-ER=0.0 | p=nan O=C(O)COCC(C)O | Target=NR-ER | NR-ER=0.0 | p=nan O=C(O)COCC(C)O | Target=NR-ER | NR-ER=0.0 | p=nan O=C(O)COCC(C)O | Target=NR-ER | NR-ER=0.0 | p=nan O=C(O)COCC(C)O | Target=NR-ER | NR-ER=0.0 | p=nan\n"
     ]
    },
    {
     "data": {
      "text/html": [
       "<div>\n",
       "<style scoped>\n",
       "    .dataframe tbody tr th:only-of-type {\n",
       "        vertical-align: middle;\n",
       "    }\n",
       "\n",
       "    .dataframe tbody tr th {\n",
       "        vertical-align: top;\n",
       "    }\n",
       "\n",
       "    .dataframe thead th {\n",
       "        text-align: right;\n",
       "    }\n",
       "</style>\n",
       "<table border=\"1\" class=\"dataframe\">\n",
       "  <thead>\n",
       "    <tr style=\"text-align: right;\">\n",
       "      <th></th>\n",
       "      <th>ligand</th>\n",
       "      <th>target</th>\n",
       "      <th>activity_type</th>\n",
       "      <th>value</th>\n",
       "      <th>pValue</th>\n",
       "    </tr>\n",
       "  </thead>\n",
       "  <tbody>\n",
       "    <tr>\n",
       "      <th>0</th>\n",
       "      <td>TOX576</td>\n",
       "      <td>SR-HSE</td>\n",
       "      <td>SR-HSE</td>\n",
       "      <td>1.0</td>\n",
       "      <td>NaN</td>\n",
       "    </tr>\n",
       "    <tr>\n",
       "      <th>1</th>\n",
       "      <td>TOX6625</td>\n",
       "      <td>NR-AhR</td>\n",
       "      <td>NR-AhR</td>\n",
       "      <td>0.0</td>\n",
       "      <td>NaN</td>\n",
       "    </tr>\n",
       "    <tr>\n",
       "      <th>2</th>\n",
       "      <td>TOX1359</td>\n",
       "      <td>NR-AhR</td>\n",
       "      <td>NR-AhR</td>\n",
       "      <td>0.0</td>\n",
       "      <td>NaN</td>\n",
       "    </tr>\n",
       "    <tr>\n",
       "      <th>3</th>\n",
       "      <td>TOX27456</td>\n",
       "      <td>NR-AhR</td>\n",
       "      <td>NR-AhR</td>\n",
       "      <td>0.0</td>\n",
       "      <td>NaN</td>\n",
       "    </tr>\n",
       "    <tr>\n",
       "      <th>4</th>\n",
       "      <td>TOX21575</td>\n",
       "      <td>NR-ER</td>\n",
       "      <td>NR-ER</td>\n",
       "      <td>0.0</td>\n",
       "      <td>NaN</td>\n",
       "    </tr>\n",
       "    <tr>\n",
       "      <th>5</th>\n",
       "      <td>TOX26651</td>\n",
       "      <td>NR-AR</td>\n",
       "      <td>NR-AR</td>\n",
       "      <td>0.0</td>\n",
       "      <td>NaN</td>\n",
       "    </tr>\n",
       "    <tr>\n",
       "      <th>6</th>\n",
       "      <td>TOX764</td>\n",
       "      <td>NR-AR-LBD</td>\n",
       "      <td>NR-AR-LBD</td>\n",
       "      <td>0.0</td>\n",
       "      <td>NaN</td>\n",
       "    </tr>\n",
       "    <tr>\n",
       "      <th>7</th>\n",
       "      <td>TOX64</td>\n",
       "      <td>SR-HSE</td>\n",
       "      <td>SR-HSE</td>\n",
       "      <td>0.0</td>\n",
       "      <td>NaN</td>\n",
       "    </tr>\n",
       "    <tr>\n",
       "      <th>8</th>\n",
       "      <td>TOX27576</td>\n",
       "      <td>NR-ER</td>\n",
       "      <td>NR-ER</td>\n",
       "      <td>0.0</td>\n",
       "      <td>NaN</td>\n",
       "    </tr>\n",
       "    <tr>\n",
       "      <th>9</th>\n",
       "      <td>TOX26456</td>\n",
       "      <td>NR-ER-LBD</td>\n",
       "      <td>NR-ER-LBD</td>\n",
       "      <td>0.0</td>\n",
       "      <td>NaN</td>\n",
       "    </tr>\n",
       "  </tbody>\n",
       "</table>\n",
       "</div>"
      ],
      "text/plain": [
       "     ligand     target activity_type value  pValue\n",
       "0    TOX576     SR-HSE        SR-HSE   1.0     NaN\n",
       "1   TOX6625     NR-AhR        NR-AhR   0.0     NaN\n",
       "2   TOX1359     NR-AhR        NR-AhR   0.0     NaN\n",
       "3  TOX27456     NR-AhR        NR-AhR   0.0     NaN\n",
       "4  TOX21575      NR-ER         NR-ER   0.0     NaN\n",
       "5  TOX26651      NR-AR         NR-AR   0.0     NaN\n",
       "6    TOX764  NR-AR-LBD     NR-AR-LBD   0.0     NaN\n",
       "7     TOX64     SR-HSE        SR-HSE   0.0     NaN\n",
       "8  TOX27576      NR-ER         NR-ER   0.0     NaN\n",
       "9  TOX26456  NR-ER-LBD     NR-ER-LBD   0.0     NaN"
      ]
     },
     "execution_count": 20,
     "metadata": {},
     "output_type": "execute_result"
    }
   ],
   "source": [
    "query = \"Drugs with high clearance in hepatocytes\"\n",
    "hits = retrieve(query, k=50)\n",
    "\n",
    "print(summarize(query, hits[:5]))\n",
    "\n",
    "# build dataframe safely\n",
    "df = pd.DataFrame(hits)\n",
    "\n",
    "# normalize column names\n",
    "if \"ligand_name\" in df.columns and \"ligand\" not in df.columns:\n",
    "    df = df.rename(columns={\"ligand_name\": \"ligand\"})\n",
    "\n",
    "cols = [c for c in [\"ligand\", \"target\", \"activity_type\", \"value\", \"pValue\"] if c in df.columns]\n",
    "df = df[cols]\n",
    "\n",
    "# show top 10 rows\n",
    "df.head(10)\n"
   ]
  },
  {
   "cell_type": "code",
   "execution_count": 14,
   "metadata": {},
   "outputs": [
    {
     "name": "stdout",
     "output_type": "stream",
     "text": [
      "        ligand                                             smiles  \\\n",
      "0   91663444.0  CCC(C)[C@H](NC(=O)[C@@H]1CCCN1C(=O)[C@@H](N)Cc...   \n",
      "1   44186669.0  CCCn1c(=O)[nH]c2nc(-c3ccc(S(=O)(=O)N4CCN(Cc5cc...   \n",
      "2  137796736.0  Cc1cc(C[C@@H](NC(=O)N2CCC(c3cc4ccccc4[nH]c3=O)...   \n",
      "3   87316315.0  COCCNc1ccc(S(=O)(=O)NC(=O)c2ccc(N3CCN(CC4=C(c5...   \n",
      "4     217674.0               CN1CCN(c2nc(Oc3ccccc3)c3ccccc3n2)CC1   \n",
      "\n",
      "                                              target activity_type     value  \n",
      "0  MLGNKRLGLSGLTLALSLLVCLGALAEAYPSKPDNPGEDAPAEDMA...  BindingDB_Ki     4.600  \n",
      "1  MPPSISAFQAAYIGIEVLIALVSVPGNVLVIWAVKVNQALRDATFC...  BindingDB_Ki  2610.000  \n",
      "2  MGFQKFSPFLALSILVLLQAGSLHAAPFRSALESSPADPATLSEDE...  BindingDB_Ki     0.050  \n",
      "3  MAQAGRTGYDNREIVMKYIHYKLSQRGYEWDAGDADAAPLGAAPTP...  BindingDB_Ki     4.417  \n",
      "4  MPDTNSTINLSLSTRVTLAFFMSLVAFAIMLGNALVILAFVVDKNL...  BindingDB_Ki  2818.380  \n",
      "✅ exported egfr_inhibitors.smi\n"
     ]
    }
   ],
   "source": [
    "df = pd.DataFrame(hits)\n",
    "\n",
    "# normalize column names\n",
    "if \"ligand\" not in df.columns and \"ligand_name\" in df.columns:\n",
    "    df = df.rename(columns={\"ligand_name\":\"ligand\"})\n",
    "\n",
    "# select only columns that exist\n",
    "cols = [c for c in [\"ligand\",\"smiles\",\"target\",\"activity_type\",\"value\"] if c in df.columns]\n",
    "df = df[cols]\n",
    "\n",
    "print(df.head())\n",
    "\n",
    "# export SMILES for docking\n",
    "if \"smiles\" in df.columns:\n",
    "    df[[\"smiles\",\"ligand\"]].dropna().to_csv(\n",
    "        \"../data/processed/egfr_inhibitors.smi\",\n",
    "        sep=\"\\t\", index=False, header=False\n",
    "    )\n",
    "    print(\"✅ exported egfr_inhibitors.smi\")\n",
    "else:\n",
    "    print(\"⚠️ No SMILES found in hits\")\n"
   ]
  },
  {
   "cell_type": "code",
   "execution_count": 32,
   "metadata": {},
   "outputs": [
    {
     "name": "stdout",
     "output_type": "stream",
     "text": [
      "Empty DataFrame\n",
      "Columns: [ligand, smiles, target, activity_type, value, pValue]\n",
      "Index: []\n",
      "✅ exported egfr_inhibitors.smi for docking\n"
     ]
    }
   ],
   "source": [
    "query = \"EGFR inhibitors\"\n",
    "hits = retrieve(query, k=20)\n",
    "\n",
    "df = pd.DataFrame(hits)[[\"ligand\",\"smiles\",\"target\",\"activity_type\",\"value\",\"pValue\"]].dropna()\n",
    "print(df.head())\n",
    "\n",
    "# save SMILES for docking\n",
    "df[[\"smiles\",\"ligand\"]].to_csv(\n",
    "    \"../data/processed/egfr_inhibitors.smi\",\n",
    "    sep=\"\\t\", index=False, header=False\n",
    ")\n",
    "print(\"✅ exported egfr_inhibitors.smi for docking\")\n"
   ]
  },
  {
   "cell_type": "code",
   "execution_count": 1,
   "metadata": {},
   "outputs": [],
   "source": [
    "SYSTEM_PROMPT = \"\"\"You are a drug discovery assistant.\n",
    "- Summarize ADMET predictions.\n",
    "- Cite sources with [doc_id].\n",
    "- Highlight risks clearly (toxicity, solubility issues).\n",
    "- Be concise (<=10 sentences).\n",
    "\"\"\"\n",
    "\n",
    "def build_user_prompt(question, admet_block, ctx_block):\n",
    "    return f\"\"\"Question: {question}\n",
    "\n",
    "{admet_block}\n",
    "\n",
    "{ctx_block}\n",
    "\"\"\"\n"
   ]
  }
 ],
 "metadata": {
  "kernelspec": {
   "display_name": "ragops",
   "language": "python",
   "name": "python3"
  },
  "language_info": {
   "codemirror_mode": {
    "name": "ipython",
    "version": 3
   },
   "file_extension": ".py",
   "mimetype": "text/x-python",
   "name": "python",
   "nbconvert_exporter": "python",
   "pygments_lexer": "ipython3",
   "version": "3.11.13"
  }
 },
 "nbformat": 4,
 "nbformat_minor": 2
}
