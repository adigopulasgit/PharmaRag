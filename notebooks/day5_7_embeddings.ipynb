{
 "cells": [
  {
   "cell_type": "code",
   "execution_count": 1,
   "metadata": {},
   "outputs": [
    {
     "ename": "ModuleNotFoundError",
     "evalue": "No module named 'faiss'",
     "output_type": "error",
     "traceback": [
      "\u001b[31m---------------------------------------------------------------------------\u001b[39m",
      "\u001b[31mModuleNotFoundError\u001b[39m                       Traceback (most recent call last)",
      "\u001b[36mCell\u001b[39m\u001b[36m \u001b[39m\u001b[32mIn[1]\u001b[39m\u001b[32m, line 1\u001b[39m\n\u001b[32m----> \u001b[39m\u001b[32m1\u001b[39m \u001b[38;5;28;01mimport\u001b[39;00m\u001b[38;5;250m \u001b[39m\u001b[34;01mfaiss\u001b[39;00m\n\u001b[32m      2\u001b[39m \u001b[38;5;28mprint\u001b[39m(\u001b[33m\"\u001b[39m\u001b[33mFAISS version:\u001b[39m\u001b[33m\"\u001b[39m, faiss.__version__)\n",
      "\u001b[31mModuleNotFoundError\u001b[39m: No module named 'faiss'"
     ]
    }
   ],
   "source": [
    "import faiss\n",
    "print(\"FAISS version:\", faiss.__version__)\n"
   ]
  },
  {
   "cell_type": "code",
   "execution_count": 2,
   "metadata": {},
   "outputs": [
    {
     "name": "stdout",
     "output_type": "stream",
     "text": [
      "FAISS: 1.12.0\n"
     ]
    }
   ],
   "source": [
    "import faiss\n",
    "print(\"FAISS:\", faiss.__version__)\n"
   ]
  },
  {
   "cell_type": "code",
   "execution_count": 3,
   "metadata": {},
   "outputs": [],
   "source": [
    "import pandas as pd\n",
    "import faiss\n",
    "from sentence_transformers import SentenceTransformer\n",
    "import numpy as np\n",
    "from pathlib import Path\n",
    "import json\n"
   ]
  },
  {
   "cell_type": "code",
   "execution_count": 4,
   "metadata": {},
   "outputs": [
    {
     "name": "stdout",
     "output_type": "stream",
     "text": [
      "BindingDB: (439214, 7)\n",
      "TDC: (623507, 7)\n",
      "Unified dataset: (1062721, 7)\n"
     ]
    },
    {
     "name": "stderr",
     "output_type": "stream",
     "text": [
      "/var/folders/50/8s2gjnfs2x9c8h9syxh46kbc0000gn/T/ipykernel_42210/1760666045.py:15: FutureWarning: The behavior of DataFrame concatenation with empty or all-NA entries is deprecated. In a future version, this will no longer exclude empty or all-NA columns when determining the result dtypes. To retain the old behavior, exclude the relevant entries before the concat operation.\n",
      "  df_all = pd.concat([df_bindingdb, df_tdc], ignore_index=True)\n"
     ]
    },
    {
     "data": {
      "text/html": [
       "<div>\n",
       "<style scoped>\n",
       "    .dataframe tbody tr th:only-of-type {\n",
       "        vertical-align: middle;\n",
       "    }\n",
       "\n",
       "    .dataframe tbody tr th {\n",
       "        vertical-align: top;\n",
       "    }\n",
       "\n",
       "    .dataframe thead th {\n",
       "        text-align: right;\n",
       "    }\n",
       "</style>\n",
       "<table border=\"1\" class=\"dataframe\">\n",
       "  <thead>\n",
       "    <tr style=\"text-align: right;\">\n",
       "      <th></th>\n",
       "      <th>smiles</th>\n",
       "      <th>inchikey</th>\n",
       "      <th>ligand_name</th>\n",
       "      <th>target</th>\n",
       "      <th>activity_type</th>\n",
       "      <th>value</th>\n",
       "      <th>pValue</th>\n",
       "    </tr>\n",
       "  </thead>\n",
       "  <tbody>\n",
       "    <tr>\n",
       "      <th>0</th>\n",
       "      <td>O[C@@H]1[C@@H](O)[C@@H](Cc2ccccc2)N(CCCCCC(O)=...</td>\n",
       "      <td>XGEGDSLAQZJGCW-HHGOQMMWSA-N</td>\n",
       "      <td>None</td>\n",
       "      <td>None</td>\n",
       "      <td>Ki</td>\n",
       "      <td>0.24</td>\n",
       "      <td>9.619789</td>\n",
       "    </tr>\n",
       "    <tr>\n",
       "      <th>1</th>\n",
       "      <td>O[C@@H]1[C@@H](O)[C@@H](Cc2ccccc2)N(C\\C=C\\c2cn...</td>\n",
       "      <td>UZLMEAPBHYEHAC-UNTBESQGSA-N</td>\n",
       "      <td>None</td>\n",
       "      <td>None</td>\n",
       "      <td>Ki</td>\n",
       "      <td>0.25</td>\n",
       "      <td>9.602060</td>\n",
       "    </tr>\n",
       "    <tr>\n",
       "      <th>2</th>\n",
       "      <td>O[C@@H]1[C@@H](O)[C@@H](Cc2ccccc2)N(CC2CC2)C(=...</td>\n",
       "      <td>HYNYUFZPPJMPOB-UTWJFGBXSA-N</td>\n",
       "      <td>None</td>\n",
       "      <td>None</td>\n",
       "      <td>Ki</td>\n",
       "      <td>0.41</td>\n",
       "      <td>9.387216</td>\n",
       "    </tr>\n",
       "  </tbody>\n",
       "</table>\n",
       "</div>"
      ],
      "text/plain": [
       "                                              smiles  \\\n",
       "0  O[C@@H]1[C@@H](O)[C@@H](Cc2ccccc2)N(CCCCCC(O)=...   \n",
       "1  O[C@@H]1[C@@H](O)[C@@H](Cc2ccccc2)N(C\\C=C\\c2cn...   \n",
       "2  O[C@@H]1[C@@H](O)[C@@H](Cc2ccccc2)N(CC2CC2)C(=...   \n",
       "\n",
       "                      inchikey ligand_name target activity_type  value  \\\n",
       "0  XGEGDSLAQZJGCW-HHGOQMMWSA-N        None   None            Ki   0.24   \n",
       "1  UZLMEAPBHYEHAC-UNTBESQGSA-N        None   None            Ki   0.25   \n",
       "2  HYNYUFZPPJMPOB-UTWJFGBXSA-N        None   None            Ki   0.41   \n",
       "\n",
       "     pValue  \n",
       "0  9.619789  \n",
       "1  9.602060  \n",
       "2  9.387216  "
      ]
     },
     "execution_count": 4,
     "metadata": {},
     "output_type": "execute_result"
    }
   ],
   "source": [
    "processed_dir = Path(\"../data/processed\")\n",
    "\n",
    "# BindingDB standardized\n",
    "df_bindingdb = pd.read_parquet(processed_dir / \"bindingdb_standardized.parquet\")\n",
    "print(\"BindingDB:\", df_bindingdb.shape)\n",
    "\n",
    "# TDC datasets\n",
    "import glob\n",
    "tdc_files = glob.glob(str(processed_dir / \"tdc_*.parquet\"))\n",
    "dfs_tdc = [pd.read_parquet(f) for f in tdc_files]\n",
    "df_tdc = pd.concat(dfs_tdc, ignore_index=True)\n",
    "print(\"TDC:\", df_tdc.shape)\n",
    "\n",
    "# Merge all\n",
    "df_all = pd.concat([df_bindingdb, df_tdc], ignore_index=True)\n",
    "print(\"Unified dataset:\", df_all.shape)\n",
    "df_all.head(3)\n"
   ]
  },
  {
   "cell_type": "code",
   "execution_count": 5,
   "metadata": {},
   "outputs": [
    {
     "data": {
      "text/plain": [
       "0    Ligand: None, Target: None, Activity: Ki, Valu...\n",
       "1    Ligand: None, Target: None, Activity: Ki, Valu...\n",
       "2    Ligand: None, Target: None, Activity: Ki, Valu...\n",
       "Name: evidence_text, dtype: object"
      ]
     },
     "execution_count": 5,
     "metadata": {},
     "output_type": "execute_result"
    }
   ],
   "source": [
    "def build_text(row):\n",
    "    ligand = row.get(\"ligand_name\", \"\")\n",
    "    target = row.get(\"target\", \"\")\n",
    "    act_type = row.get(\"activity_type\", \"\")\n",
    "    val = row.get(\"value\", \"\")\n",
    "    pval = row.get(\"pValue\", \"\")\n",
    "    return f\"Ligand: {ligand}, Target: {target}, Activity: {act_type}, Value: {val}, pValue: {pval}\"\n",
    "\n",
    "df_all[\"evidence_text\"] = df_all.apply(build_text, axis=1)\n",
    "df_all[\"evidence_text\"].head(3)\n"
   ]
  },
  {
   "cell_type": "code",
   "execution_count": 6,
   "metadata": {},
   "outputs": [
    {
     "data": {
      "application/vnd.jupyter.widget-view+json": {
       "model_id": "68244fd85b504e9b9e14b33d27148d3f",
       "version_major": 2,
       "version_minor": 0
      },
      "text/plain": [
       "modules.json:   0%|          | 0.00/349 [00:00<?, ?B/s]"
      ]
     },
     "metadata": {},
     "output_type": "display_data"
    },
    {
     "data": {
      "application/vnd.jupyter.widget-view+json": {
       "model_id": "2790b671ea6949888e66f9e97b7c1339",
       "version_major": 2,
       "version_minor": 0
      },
      "text/plain": [
       "config_sentence_transformers.json:   0%|          | 0.00/116 [00:00<?, ?B/s]"
      ]
     },
     "metadata": {},
     "output_type": "display_data"
    },
    {
     "data": {
      "application/vnd.jupyter.widget-view+json": {
       "model_id": "fe435a042fc14134addd6c3c6ee0e72f",
       "version_major": 2,
       "version_minor": 0
      },
      "text/plain": [
       "README.md: 0.00B [00:00, ?B/s]"
      ]
     },
     "metadata": {},
     "output_type": "display_data"
    },
    {
     "data": {
      "application/vnd.jupyter.widget-view+json": {
       "model_id": "dc61833ab237471eb38a20cc6a5395bb",
       "version_major": 2,
       "version_minor": 0
      },
      "text/plain": [
       "sentence_bert_config.json:   0%|          | 0.00/53.0 [00:00<?, ?B/s]"
      ]
     },
     "metadata": {},
     "output_type": "display_data"
    },
    {
     "data": {
      "application/vnd.jupyter.widget-view+json": {
       "model_id": "a1384ecc6cbb456981ad94a872f30962",
       "version_major": 2,
       "version_minor": 0
      },
      "text/plain": [
       "config.json:   0%|          | 0.00/612 [00:00<?, ?B/s]"
      ]
     },
     "metadata": {},
     "output_type": "display_data"
    },
    {
     "data": {
      "application/vnd.jupyter.widget-view+json": {
       "model_id": "e742f837fc6541cc8527d6151ce81e67",
       "version_major": 2,
       "version_minor": 0
      },
      "text/plain": [
       "model.safetensors:   0%|          | 0.00/90.9M [00:00<?, ?B/s]"
      ]
     },
     "metadata": {},
     "output_type": "display_data"
    },
    {
     "data": {
      "application/vnd.jupyter.widget-view+json": {
       "model_id": "08172c95aa9e43908bcdf014260d8f00",
       "version_major": 2,
       "version_minor": 0
      },
      "text/plain": [
       "tokenizer_config.json:   0%|          | 0.00/350 [00:00<?, ?B/s]"
      ]
     },
     "metadata": {},
     "output_type": "display_data"
    },
    {
     "data": {
      "application/vnd.jupyter.widget-view+json": {
       "model_id": "c8914880355a479887f342d15e2d1dde",
       "version_major": 2,
       "version_minor": 0
      },
      "text/plain": [
       "vocab.txt: 0.00B [00:00, ?B/s]"
      ]
     },
     "metadata": {},
     "output_type": "display_data"
    },
    {
     "data": {
      "application/vnd.jupyter.widget-view+json": {
       "model_id": "3625d73f9e7147918fed8542eafaf17f",
       "version_major": 2,
       "version_minor": 0
      },
      "text/plain": [
       "tokenizer.json: 0.00B [00:00, ?B/s]"
      ]
     },
     "metadata": {},
     "output_type": "display_data"
    },
    {
     "data": {
      "application/vnd.jupyter.widget-view+json": {
       "model_id": "264e5018db624ecbb9a73f8e50cb33a6",
       "version_major": 2,
       "version_minor": 0
      },
      "text/plain": [
       "special_tokens_map.json:   0%|          | 0.00/112 [00:00<?, ?B/s]"
      ]
     },
     "metadata": {},
     "output_type": "display_data"
    },
    {
     "data": {
      "application/vnd.jupyter.widget-view+json": {
       "model_id": "53a9e24e8a5e4eb68cb2205fccf3a98f",
       "version_major": 2,
       "version_minor": 0
      },
      "text/plain": [
       "config.json:   0%|          | 0.00/190 [00:00<?, ?B/s]"
      ]
     },
     "metadata": {},
     "output_type": "display_data"
    },
    {
     "data": {
      "application/vnd.jupyter.widget-view+json": {
       "model_id": "4274ff2a57c5499799a8137da10952e4",
       "version_major": 2,
       "version_minor": 0
      },
      "text/plain": [
       "Batches:   0%|          | 0/16606 [00:00<?, ?it/s]"
      ]
     },
     "metadata": {},
     "output_type": "display_data"
    },
    {
     "name": "stdout",
     "output_type": "stream",
     "text": [
      "Embeddings shape: (1062721, 384)\n"
     ]
    }
   ],
   "source": [
    "# Use a lightweight sentence transformer\n",
    "model = SentenceTransformer(\"all-MiniLM-L6-v2\")\n",
    "\n",
    "embeddings = model.encode(df_all[\"evidence_text\"].tolist(),\n",
    "                          batch_size=64, show_progress_bar=True)\n",
    "\n",
    "embeddings = np.array(embeddings).astype(\"float32\")\n",
    "print(\"Embeddings shape:\", embeddings.shape)\n"
   ]
  },
  {
   "cell_type": "code",
   "execution_count": 5,
   "metadata": {},
   "outputs": [
    {
     "name": "stdout",
     "output_type": "stream",
     "text": [
      "BindingDB: (439214, 7)\n",
      "TDC: (623507, 7)\n",
      "Unified dataset: (1062721, 7)\n"
     ]
    },
    {
     "name": "stderr",
     "output_type": "stream",
     "text": [
      "/var/folders/50/8s2gjnfs2x9c8h9syxh46kbc0000gn/T/ipykernel_45026/3144286733.py:18: FutureWarning: The behavior of DataFrame concatenation with empty or all-NA entries is deprecated. In a future version, this will no longer exclude empty or all-NA columns when determining the result dtypes. To retain the old behavior, exclude the relevant entries before the concat operation.\n",
      "  df_all = pd.concat([df_bindingdb, df_tdc], ignore_index=True)\n"
     ]
    }
   ],
   "source": [
    "import pandas as pd\n",
    "from pathlib import Path\n",
    "import glob\n",
    "\n",
    "processed_dir = Path(\"../data/processed\")\n",
    "\n",
    "# Load BindingDB\n",
    "df_bindingdb = pd.read_parquet(processed_dir / \"bindingdb_standardized.parquet\")\n",
    "print(\"BindingDB:\", df_bindingdb.shape)\n",
    "\n",
    "# Load TDC datasets\n",
    "tdc_files = glob.glob(str(processed_dir / \"tdc_*.parquet\"))\n",
    "dfs_tdc = [pd.read_parquet(f) for f in tdc_files]\n",
    "df_tdc = pd.concat(dfs_tdc, ignore_index=True)\n",
    "print(\"TDC:\", df_tdc.shape)\n",
    "\n",
    "# Merge all\n",
    "df_all = pd.concat([df_bindingdb, df_tdc], ignore_index=True)\n",
    "print(\"Unified dataset:\", df_all.shape)\n"
   ]
  },
  {
   "cell_type": "code",
   "execution_count": 6,
   "metadata": {},
   "outputs": [
    {
     "data": {
      "text/plain": [
       "0    Ligand: None, Target: None, Activity: Ki, Valu...\n",
       "1    Ligand: None, Target: None, Activity: Ki, Valu...\n",
       "2    Ligand: None, Target: None, Activity: Ki, Valu...\n",
       "Name: evidence_text, dtype: object"
      ]
     },
     "execution_count": 6,
     "metadata": {},
     "output_type": "execute_result"
    }
   ],
   "source": [
    "def build_text(row):\n",
    "    return (\n",
    "        f\"Ligand: {row.get('ligand_name', '')}, \"\n",
    "        f\"Target: {row.get('target', '')}, \"\n",
    "        f\"Activity: {row.get('activity_type', '')}, \"\n",
    "        f\"Value: {row.get('value', '')}, \"\n",
    "        f\"pValue: {row.get('pValue', '')}\"\n",
    "    )\n",
    "\n",
    "df_all[\"evidence_text\"] = df_all.apply(build_text, axis=1)\n",
    "df_all[\"evidence_text\"].head(3)\n"
   ]
  },
  {
   "cell_type": "code",
   "execution_count": 7,
   "metadata": {},
   "outputs": [
    {
     "data": {
      "application/vnd.jupyter.widget-view+json": {
       "model_id": "8a683e49a81e40ffb1918a4e568c10d4",
       "version_major": 2,
       "version_minor": 0
      },
      "text/plain": [
       "Batches:   0%|          | 0/16606 [00:00<?, ?it/s]"
      ]
     },
     "metadata": {},
     "output_type": "display_data"
    },
    {
     "name": "stdout",
     "output_type": "stream",
     "text": [
      "Embeddings shape: (1062721, 384)\n"
     ]
    }
   ],
   "source": [
    "from sentence_transformers import SentenceTransformer\n",
    "import numpy as np\n",
    "\n",
    "model = SentenceTransformer(\"all-MiniLM-L6-v2\")\n",
    "\n",
    "embeddings = model.encode(\n",
    "    df_all[\"evidence_text\"].tolist(),\n",
    "    batch_size=64,\n",
    "    show_progress_bar=True\n",
    ")\n",
    "\n",
    "embeddings = np.array(embeddings).astype(\"float32\")\n",
    "print(\"Embeddings shape:\", embeddings.shape)\n"
   ]
  },
  {
   "cell_type": "code",
   "execution_count": 3,
   "metadata": {},
   "outputs": [
    {
     "name": "stdout",
     "output_type": "stream",
     "text": [
      "/Users/guruganesh/miniconda3/envs/ragops/bin/python\n"
     ]
    }
   ],
   "source": [
    "import sys\n",
    "print(sys.executable)\n"
   ]
  },
  {
   "cell_type": "code",
   "execution_count": 5,
   "metadata": {},
   "outputs": [
    {
     "name": "stdout",
     "output_type": "stream",
     "text": [
      "BindingDB: (439214, 7)\n",
      "TDC: (623507, 7)\n",
      "Unified dataset: (1062721, 7)\n"
     ]
    },
    {
     "name": "stderr",
     "output_type": "stream",
     "text": [
      "/var/folders/50/8s2gjnfs2x9c8h9syxh46kbc0000gn/T/ipykernel_45676/4254502207.py:18: FutureWarning: The behavior of DataFrame concatenation with empty or all-NA entries is deprecated. In a future version, this will no longer exclude empty or all-NA columns when determining the result dtypes. To retain the old behavior, exclude the relevant entries before the concat operation.\n",
      "  df_all = pd.concat([df_bindingdb, df_tdc], ignore_index=True)\n"
     ]
    },
    {
     "name": "stdout",
     "output_type": "stream",
     "text": [
      "0    Ligand: None, Target: None, Activity: Ki, Valu...\n",
      "1    Ligand: None, Target: None, Activity: Ki, Valu...\n",
      "2    Ligand: None, Target: None, Activity: Ki, Valu...\n",
      "Name: evidence_text, dtype: object\n"
     ]
    }
   ],
   "source": [
    "import pandas as pd\n",
    "from pathlib import Path\n",
    "import glob\n",
    "\n",
    "processed_dir = Path(\"../data/processed\")\n",
    "\n",
    "# Load BindingDB\n",
    "df_bindingdb = pd.read_parquet(processed_dir / \"bindingdb_standardized.parquet\")\n",
    "print(\"BindingDB:\", df_bindingdb.shape)\n",
    "\n",
    "# Load all TDC datasets\n",
    "tdc_files = glob.glob(str(processed_dir / \"tdc_*.parquet\"))\n",
    "dfs_tdc = [pd.read_parquet(f) for f in tdc_files]\n",
    "df_tdc = pd.concat(dfs_tdc, ignore_index=True)\n",
    "print(\"TDC:\", df_tdc.shape)\n",
    "\n",
    "# Merge everything\n",
    "df_all = pd.concat([df_bindingdb, df_tdc], ignore_index=True)\n",
    "print(\"Unified dataset:\", df_all.shape)\n",
    "\n",
    "# Add evidence text\n",
    "def build_text(row):\n",
    "    return (\n",
    "        f\"Ligand: {row.get('ligand_name', '')}, \"\n",
    "        f\"Target: {row.get('target', '')}, \"\n",
    "        f\"Activity: {row.get('activity_type', '')}, \"\n",
    "        f\"Value: {row.get('value', '')}, \"\n",
    "        f\"pValue: {row.get('pValue', '')}\"\n",
    "    )\n",
    "\n",
    "df_all[\"evidence_text\"] = df_all.apply(build_text, axis=1)\n",
    "print(df_all[\"evidence_text\"].head(3))\n",
    "\n"
   ]
  },
  {
   "cell_type": "code",
   "execution_count": 6,
   "metadata": {},
   "outputs": [
    {
     "data": {
      "application/vnd.jupyter.widget-view+json": {
       "model_id": "da3da6a03e444f279640bf91e44e59f1",
       "version_major": 2,
       "version_minor": 0
      },
      "text/plain": [
       "Batches:   0%|          | 0/79 [00:00<?, ?it/s]"
      ]
     },
     "metadata": {},
     "output_type": "display_data"
    },
    {
     "name": "stdout",
     "output_type": "stream",
     "text": [
      "Sample embeddings shape: (5000, 384)\n"
     ]
    }
   ],
   "source": [
    "df_sample = df_all.sample(5000, random_state=42)\n",
    "\n",
    "from sentence_transformers import SentenceTransformer\n",
    "import numpy as np\n",
    "\n",
    "model = SentenceTransformer(\"all-MiniLM-L6-v2\")\n",
    "\n",
    "embeddings = model.encode(\n",
    "    df_sample[\"evidence_text\"].tolist(),\n",
    "    batch_size=64,\n",
    "    show_progress_bar=True\n",
    ")\n",
    "\n",
    "embeddings = np.array(embeddings).astype(\"float32\")\n",
    "print(\"Sample embeddings shape:\", embeddings.shape)\n"
   ]
  },
  {
   "cell_type": "code",
   "execution_count": 9,
   "metadata": {},
   "outputs": [
    {
     "name": "stdout",
     "output_type": "stream",
     "text": [
      "Index size: 5000\n"
     ]
    }
   ],
   "source": [
    "# Build FAISS index on sample embeddings\n",
    "import faiss\n",
    "\n",
    "faiss.normalize_L2(embeddings)\n",
    "\n",
    "index = faiss.IndexFlatIP(embeddings.shape[1])\n",
    "index.add(embeddings)\n",
    "print(\"Index size:\", index.ntotal)\n",
    "\n",
    "# Map FAISS IDs back to DataFrame rows\n",
    "id_to_row = dict(enumerate(df_sample.to_dict(orient=\"records\")))\n"
   ]
  },
  {
   "cell_type": "code",
   "execution_count": 10,
   "metadata": {},
   "outputs": [
    {
     "name": "stdout",
     "output_type": "stream",
     "text": [
      "\n",
      "🔎 Query: Find ligands active on EGFR\n",
      "  • None | Target: None | IC50= 17516 (score=0.576)\n",
      "  • 87279791.0 | Target: MAHAGRTGYDNREIVMKYIHYKLSQRGYEWDAGDVGAAPPGAAPAPGIFSSQPGHTPHPAASRDPVARTSPLQTPAAPGAAAGPALSPVPPVVHLTLRQAGDDFSRRYRRDFAEMSSQLHLTPFTARGRFATVVEELFRDGVNWGRIVAFFEFGGVMCVESVNREMSPLVDNIALWMTEYLNRHLHTWIQDNGGWDAFVELYGPSMRPLFDFSWLSLKTLLSLALVGACITLGAYLGHK | BindingDB_Ki=0.6779999999999999 (score=0.566)\n",
      "  • 87316315.0 | Target: MAQAGRTGYDNREIVMKYIHYKLSQRGYEWDAGDADAAPLGAAPTPGIFSFQPESNPMPAVHRDMAARTSPLRPLVATAGPALSPVPPVVHLTLRRAGDDFSRRYRRDFAEMSSQLHLTPFTARGRFATVVEELFRDGVNWGRIVAFFEFGGVMCVESVNREMSPLVDNIALWMTEYLNRHLHTWIQDNGGWDAFVELYGPSMRPLFDFSWLSLKTLLSLALVGACITLGAYLGHK | BindingDB_Ki=4.417 (score=0.563)\n",
      "\n",
      "🔎 Query: Compounds with IC50 under 10 nM against HER2\n",
      "  • None | Target: None | IC50=>2.50e+5 (score=0.464)\n",
      "  • None | Target: None | IC50= 1851 (score=0.464)\n",
      "  • None | Target: None | IC50=>15849 (score=0.459)\n"
     ]
    }
   ],
   "source": [
    "def search(query, k=5):\n",
    "    q_emb = model.encode([query], convert_to_numpy=True).astype(\"float32\")\n",
    "    faiss.normalize_L2(q_emb)\n",
    "    scores, idxs = index.search(q_emb, k)\n",
    "    results = []\n",
    "    for score, i in zip(scores[0], idxs[0]):\n",
    "        results.append((score, id_to_row[i]))\n",
    "    return results\n",
    "\n",
    "# Example queries\n",
    "queries = [\n",
    "    \"Find ligands active on EGFR\",\n",
    "    \"Compounds with IC50 under 10 nM against HER2\"\n",
    "]\n",
    "\n",
    "for q in queries:\n",
    "    print(f\"\\n🔎 Query: {q}\")\n",
    "    for score, row in search(q, k=3):\n",
    "        print(f\"  • {row['ligand_name']} | Target: {row['target']} | {row['activity_type']}={row['value']} (score={score:.3f})\")\n"
   ]
  },
  {
   "cell_type": "code",
   "execution_count": 11,
   "metadata": {},
   "outputs": [
    {
     "name": "stdout",
     "output_type": "stream",
     "text": [
      "✅ Index saved\n"
     ]
    }
   ],
   "source": [
    "faiss.write_index(index, str(processed_dir / \"evidence_faiss.index\"))\n",
    "print(\"✅ Index saved\")\n"
   ]
  },
  {
   "cell_type": "code",
   "execution_count": 12,
   "metadata": {},
   "outputs": [
    {
     "name": "stdout",
     "output_type": "stream",
     "text": [
      "Reloaded index size: 5000\n"
     ]
    }
   ],
   "source": [
    "# Reload index\n",
    "index2 = faiss.read_index(str(processed_dir / \"evidence_faiss.index\"))\n",
    "print(\"Reloaded index size:\", index2.ntotal)\n"
   ]
  },
  {
   "cell_type": "code",
   "execution_count": 13,
   "metadata": {},
   "outputs": [
    {
     "name": "stdout",
     "output_type": "stream",
     "text": [
      "\n",
      "🔎 EGFR inhibitors\n",
      "  • 91663444.0 | Target: MLGNKRLGLSGLTLALSLLVCLGALAEAYPSKPDNPGEDAPAEDMARYYSALRHYINLITRQRYGKRSSPETLISDLLMRESTENVPRTRLEDPAMW | BindingDB_Ki=4.6 (score=0.362)\n",
      "  • 44186669.0 | Target: MPPSISAFQAAYIGIEVLIALVSVPGNVLVIWAVKVNQALRDATFCFIVSLAVADVAVGALVIPLAILINIGPQTYFHTCLMVACPVLILTQSSILALLAIAVDRYLRVKIPLRYKMVVTPRRAAVAIAGCWILSFVVGLTPMFGWNNLSAVERAWAANGSMGEPVIKCEFEKVISMEYMVYFNFFVWVLPPLLLMVLIYLEVFYLIRKQLNKKVSASSGDPQKYYGKELKIAKSLALILFLFALSWLPLHILNCITLFCPSCHKPSILTYIAIFLTHGNSAMNPIVYAFRIQKFRVTFLKIWNDHFRCQPAPPIDEDLPEERPDD | BindingDB_Ki=2610.0 (score=0.348)\n",
      "  • 137796736.0 | Target: MGFQKFSPFLALSILVLLQAGSLHAAPFRSALESSPADPATLSEDEARLLLAALVQNYVQMKASELEQEQEREGSRIIAQKRACDTATCVTHRLAGLLSRSGGVVKNNFVPTNVGSKAFGRRRRDLQA | BindingDB_Ki=0.05 (score=0.344)\n",
      "\n",
      "🔎 HER2 IC50 < 10 nM\n",
      "  • None | Target: None | IC50=>37500 (score=0.356)\n",
      "  • None | Target: None | IC50=>130000 (score=0.355)\n",
      "  • None | Target: None | IC50= 1020 (score=0.353)\n"
     ]
    }
   ],
   "source": [
    "def search(query, k=5):\n",
    "    q_emb = model.encode([query], convert_to_numpy=True).astype(\"float32\")\n",
    "    faiss.normalize_L2(q_emb)\n",
    "    scores, idxs = index2.search(q_emb, k)\n",
    "    results = []\n",
    "    for score, i in zip(scores[0], idxs[0]):\n",
    "        results.append((score, id_to_row[i]))\n",
    "    return results\n",
    "\n",
    "for q in [\"EGFR inhibitors\", \"HER2 IC50 < 10 nM\"]:\n",
    "    print(f\"\\n🔎 {q}\")\n",
    "    for score, row in search(q, k=3):\n",
    "        print(f\"  • {row['ligand_name']} | Target: {row['target']} | \"\n",
    "              f\"{row['activity_type']}={row['value']} (score={score:.3f})\")\n"
   ]
  },
  {
   "cell_type": "code",
   "execution_count": 14,
   "metadata": {},
   "outputs": [],
   "source": [
    "import pickle\n",
    "\n",
    "with open(processed_dir / \"id_to_row.pkl\", \"wb\") as f:\n",
    "    pickle.dump(id_to_row, f)\n"
   ]
  },
  {
   "cell_type": "code",
   "execution_count": 15,
   "metadata": {},
   "outputs": [],
   "source": [
    "with open(processed_dir / \"id_to_row.pkl\", \"rb\") as f:\n",
    "    id_to_row = pickle.load(f)\n"
   ]
  }
 ],
 "metadata": {
  "kernelspec": {
   "display_name": "ragops",
   "language": "python",
   "name": "python3"
  },
  "language_info": {
   "codemirror_mode": {
    "name": "ipython",
    "version": 3
   },
   "file_extension": ".py",
   "mimetype": "text/x-python",
   "name": "python",
   "nbconvert_exporter": "python",
   "pygments_lexer": "ipython3",
   "version": "3.11.13"
  }
 },
 "nbformat": 4,
 "nbformat_minor": 2
}
