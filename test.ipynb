{
 "cells": [
  {
   "cell_type": "code",
   "execution_count": 1,
   "metadata": {},
   "outputs": [
    {
     "name": "stdout",
     "output_type": "stream",
     "text": [
      "As a drug discovery assistant, I'd be happy to help explain the risk of high HERG inhibition.\n",
      "\n",
      "The human Ether-à-go-go Related Gene (HERG) is a potassium channel protein that plays a crucial role in regulating cardiac electrophysiology. High HERG inhibition can increase the risk of QT prolongation and torsades de pointes, which are life-threatening arrhythmias.\n",
      "\n",
      "When a drug inhibits HERG channels excessively, it can lead to:\n",
      "\n",
      "1. **QT prolongation**: The QT interval on an electrocardiogram (ECG) becomes longer than normal, increasing the risk of ventricular tachycardia and fibrillation.\n",
      "2. **Torsades de pointes**: A specific type of ventricular tachycardia characterized by a twisting appearance on the ECG, which can degenerate into ventricular fibrillation or even sudden cardiac death.\n",
      "\n",
      "The risk of high HERG inhibition is significant, especially for drugs that:\n",
      "\n",
      "1. Have a high affinity for HERG channels\n",
      "2. Have a slow off-rate from the channel\n",
      "3. Are administered at high doses\n",
      "4. Interact with other medications that also inhibit HERG\n",
      "\n",
      "To mitigate this risk, drug developers must carefully evaluate their compounds' HERG inhibition profiles and consider conducting thorough QT (TQT) studies to assess the potential for QT prolongation and torsades de pointes.\n",
      "\n",
      "In summary, high HERG inhibition poses a significant risk of QT prolongation and torsades de pointes, which can be life-threatening. Therefore, it is essential to thoroughly evaluate a drug's HERG inhibition profile and consider conducting TQT studies to ensure its safe use in humans.\n"
     ]
    }
   ],
   "source": [
    "from app.llm.client import complete\n",
    "\n",
    "messages = [\n",
    "    {\"role\": \"system\", \"content\": \"You are a drug discovery assistant.\"},\n",
    "    {\"role\": \"user\", \"content\": \"Explain the risk of high hERG inhibition.\"}\n",
    "]\n",
    "\n",
    "print(complete(messages))\n"
   ]
  },
  {
   "cell_type": "code",
   "execution_count": 4,
   "metadata": {},
   "outputs": [
    {
     "name": "stdout",
     "output_type": "stream",
     "text": [
      "Answer: Based on the ADMET predictions, there are some concerns regarding this molecule's viability for oral use:\n",
      "\n",
      "* Solubility: The aqueous solubility is predicted to be -3.9, which indicates that the compound has poor water solubility. This could lead to issues with bioavailability and absorption.\n",
      "* Caco2 permeability: While the Caco2 model predicts moderate permeability (0.55), this alone may not ensure adequate oral bioavailability due to the poor solubility concern.\n",
      "\n",
      "On a more positive note, the hERG prediction suggests that the compound has low affinity for the human Ether-à-go-go Related Gene (hERG) channel, which is good news as hERG blockers have been associated with cardiotoxicity ([D2]).\n",
      "\n",
      "Considering these predictions and context, I would highlight the following risks:\n",
      "\n",
      "1. Poor solubility, which may impact oral bioavailability.\n",
      "2. Potential cardiotoxicity risk due to low hERG affinity (although this is not a guarantee of cardiac issues).\n",
      "\n",
      "To further evaluate the molecule's viability for oral use, additional studies or computational models might be necessary to investigate these concerns.\n",
      "\n",
      "References:\n",
      "[D1] EGFR inhibitors block epidermal growth factor receptor.\n",
      "[D2] hERG blockers may cause cardiotoxicity.\n",
      "Docs: D1,D2\n",
      "Latency: 30392 ms\n"
     ]
    }
   ],
   "source": [
    "from app.llm_service import rag_answer\n",
    "\n",
    "preds = {\"Solubility_AqSolDB\": -3.9, \"Caco2_Wang\": 0.55, \"hERG\": 0.82}\n",
    "\n",
    "res = rag_answer(\"Is this molecule viable for oral use?\", preds)\n",
    "\n",
    "print(\"Answer:\", res[\"answer\"])\n",
    "print(\"Docs:\", res[\"docs_used\"])\n",
    "print(\"Latency:\", res[\"latency_ms\"], \"ms\")\n"
   ]
  },
  {
   "cell_type": "code",
   "execution_count": 1,
   "metadata": {},
   "outputs": [
    {
     "name": "stderr",
     "output_type": "stream",
     "text": [
      "Device set to use mps\n"
     ]
    }
   ],
   "source": [
    "from app.rag_service import rag_answer as rag_retrieve\n",
    "from app.llm_service import rag_answer as rag_llm\n"
   ]
  },
  {
   "cell_type": "code",
   "execution_count": 3,
   "metadata": {},
   "outputs": [
    {
     "name": "stderr",
     "output_type": "stream",
     "text": [
      "2025-09-17 23:20:54.075 WARNING streamlit.runtime.scriptrunner_utils.script_run_context: Thread 'MainThread': missing ScriptRunContext! This warning can be ignored when running in bare mode.\n",
      "2025-09-17 23:20:54.075 WARNING streamlit.runtime.scriptrunner_utils.script_run_context: Thread 'MainThread': missing ScriptRunContext! This warning can be ignored when running in bare mode.\n",
      "2025-09-17 23:20:54.127 \n",
      "  \u001b[33m\u001b[1mWarning:\u001b[0m to view this Streamlit app on a browser, run it with the following\n",
      "  command:\n",
      "\n",
      "    streamlit run /Users/guruganesh/miniconda3/envs/ragops/lib/python3.11/site-packages/ipykernel_launcher.py [ARGUMENTS]\n",
      "2025-09-17 23:20:54.127 Thread 'MainThread': missing ScriptRunContext! This warning can be ignored when running in bare mode.\n",
      "2025-09-17 23:20:54.127 Thread 'MainThread': missing ScriptRunContext! This warning can be ignored when running in bare mode.\n",
      "2025-09-17 23:20:54.128 Thread 'MainThread': missing ScriptRunContext! This warning can be ignored when running in bare mode.\n",
      "2025-09-17 23:20:54.128 Thread 'MainThread': missing ScriptRunContext! This warning can be ignored when running in bare mode.\n",
      "2025-09-17 23:20:54.129 Thread 'MainThread': missing ScriptRunContext! This warning can be ignored when running in bare mode.\n",
      "2025-09-17 23:20:54.130 Thread 'MainThread': missing ScriptRunContext! This warning can be ignored when running in bare mode.\n",
      "2025-09-17 23:20:54.131 Thread 'MainThread': missing ScriptRunContext! This warning can be ignored when running in bare mode.\n",
      "2025-09-17 23:20:54.131 Thread 'MainThread': missing ScriptRunContext! This warning can be ignored when running in bare mode.\n",
      "2025-09-17 23:20:54.131 Thread 'MainThread': missing ScriptRunContext! This warning can be ignored when running in bare mode.\n",
      "2025-09-17 23:20:54.132 Session state does not function when running a script without `streamlit run`\n",
      "2025-09-17 23:20:54.132 Thread 'MainThread': missing ScriptRunContext! This warning can be ignored when running in bare mode.\n",
      "2025-09-17 23:20:54.133 Thread 'MainThread': missing ScriptRunContext! This warning can be ignored when running in bare mode.\n",
      "2025-09-17 23:20:54.135 Thread 'MainThread': missing ScriptRunContext! This warning can be ignored when running in bare mode.\n",
      "2025-09-17 23:20:54.135 Thread 'MainThread': missing ScriptRunContext! This warning can be ignored when running in bare mode.\n",
      "2025-09-17 23:20:54.135 Thread 'MainThread': missing ScriptRunContext! This warning can be ignored when running in bare mode.\n",
      "2025-09-17 23:20:54.136 Thread 'MainThread': missing ScriptRunContext! This warning can be ignored when running in bare mode.\n",
      "2025-09-17 23:20:54.136 Thread 'MainThread': missing ScriptRunContext! This warning can be ignored when running in bare mode.\n",
      "2025-09-17 23:20:54.136 Thread 'MainThread': missing ScriptRunContext! This warning can be ignored when running in bare mode.\n",
      "2025-09-17 23:20:54.137 Thread 'MainThread': missing ScriptRunContext! This warning can be ignored when running in bare mode.\n",
      "2025-09-17 23:20:54.138 Thread 'MainThread': missing ScriptRunContext! This warning can be ignored when running in bare mode.\n",
      "2025-09-17 23:20:54.138 Thread 'MainThread': missing ScriptRunContext! This warning can be ignored when running in bare mode.\n",
      "2025-09-17 23:20:54.139 Thread 'MainThread': missing ScriptRunContext! This warning can be ignored when running in bare mode.\n",
      "2025-09-17 23:20:54.139 Thread 'MainThread': missing ScriptRunContext! This warning can be ignored when running in bare mode.\n",
      "2025-09-17 23:20:54.139 Thread 'MainThread': missing ScriptRunContext! This warning can be ignored when running in bare mode.\n",
      "2025-09-17 23:20:54.139 Thread 'MainThread': missing ScriptRunContext! This warning can be ignored when running in bare mode.\n",
      "2025-09-17 23:20:54.140 Thread 'MainThread': missing ScriptRunContext! This warning can be ignored when running in bare mode.\n",
      "2025-09-17 23:20:54.141 Thread 'MainThread': missing ScriptRunContext! This warning can be ignored when running in bare mode.\n",
      "2025-09-17 23:20:54.142 Thread 'MainThread': missing ScriptRunContext! This warning can be ignored when running in bare mode.\n",
      "2025-09-17 23:20:54.145 Thread 'MainThread': missing ScriptRunContext! This warning can be ignored when running in bare mode.\n",
      "2025-09-17 23:20:54.148 Thread 'MainThread': missing ScriptRunContext! This warning can be ignored when running in bare mode.\n",
      "2025-09-17 23:20:54.149 Thread 'MainThread': missing ScriptRunContext! This warning can be ignored when running in bare mode.\n",
      "2025-09-17 23:20:54.149 Thread 'MainThread': missing ScriptRunContext! This warning can be ignored when running in bare mode.\n"
     ]
    }
   ],
   "source": [
    "import streamlit as st\n",
    "import pandas as pd\n",
    "from app.rag_service import rag_answer as rag_retrieve\n",
    "from app.llm_service import rag_answer as rag_llm\n",
    "\n",
    "st.set_page_config(page_title=\"Pharma RAGOps\", layout=\"wide\")\n",
    "st.title(\"💊 Pharma RAGOps – Evidence & LLM Insights\")\n",
    "\n",
    "# 👉 define tabs here\n",
    "tab_retrieval, tab_llm = st.tabs([\"🔎 Retrieval Evidence\", \"🤖 LLM Insights\"])\n",
    "\n",
    "# -----------------------\n",
    "# Tab 1: Retrieval\n",
    "# -----------------------\n",
    "with tab_retrieval:\n",
    "    query = st.text_input(\"Enter your query:\", \"\")\n",
    "    if st.button(\"Ask (Retrieve)\"):\n",
    "        with st.spinner(\"Retrieving evidence...\"):\n",
    "            result = rag_retrieve(query, k=5)\n",
    "        st.write(\"**📌 Summary:**\")\n",
    "        st.write(result[\"summary\"])\n",
    "        st.write(\"**🔬 Evidence:**\")\n",
    "        st.dataframe(pd.DataFrame(result[\"evidence\"]))\n",
    "\n",
    "# -----------------------\n",
    "# Tab 2: LLM Insights\n",
    "# -----------------------\n",
    "with tab_llm:\n",
    "    preds_dict = {\"Solubility_AqSolDB\": -4.1, \"Caco2_Wang\": 0.62, \"hERG\": 0.81}\n",
    "    question = st.text_input(\"Your question:\", \"Is this molecule viable?\")\n",
    "    if st.button(\"Ask LLM\"):\n",
    "        with st.spinner(\"Thinking...\"):\n",
    "            res = rag_llm(question, preds_dict, k=5)\n",
    "        st.write(\"**📌 LLM Answer:**\")\n",
    "        st.write(res[\"answer\"])\n",
    "        st.write(\"**🔬 Evidence Used:**\")\n",
    "        st.dataframe(pd.DataFrame(res[\"evidence\"]))\n"
   ]
  },
  {
   "cell_type": "code",
   "execution_count": 5,
   "metadata": {},
   "outputs": [
    {
     "name": "stdout",
     "output_type": "stream",
     "text": [
      "\u001b[31mERROR: Could not find a version that satisfies the requirement faiss-gpu (from versions: none)\u001b[0m\u001b[31m\n",
      "\u001b[0m\u001b[31mERROR: No matching distribution found for faiss-gpu\u001b[0m\u001b[31m\n",
      "\u001b[0m"
     ]
    }
   ],
   "source": [
    "!pip install faiss-gpu"
   ]
  },
  {
   "cell_type": "code",
   "execution_count": 6,
   "metadata": {},
   "outputs": [
    {
     "name": "stdout",
     "output_type": "stream",
     "text": [
      "OK: all lines valid JSONL with required fields.\n"
     ]
    }
   ],
   "source": [
    "import json, pathlib\n",
    "p = pathlib.Path(\"app/data/chunks.jsonl\")\n",
    "for i, line in enumerate(p.read_text().splitlines(), 1):\n",
    "    try:\n",
    "        obj = json.loads(line)\n",
    "        assert all(k in obj for k in (\"id\",\"dataset\",\"text\"))\n",
    "    except Exception as e:\n",
    "        print(\"Bad line\", i, e)\n",
    "        break\n",
    "else:\n",
    "    print(\"OK: all lines valid JSONL with required fields.\")\n"
   ]
  }
 ],
 "metadata": {
  "kernelspec": {
   "display_name": "ragops",
   "language": "python",
   "name": "python3"
  },
  "language_info": {
   "codemirror_mode": {
    "name": "ipython",
    "version": 3
   },
   "file_extension": ".py",
   "mimetype": "text/x-python",
   "name": "python",
   "nbconvert_exporter": "python",
   "pygments_lexer": "ipython3",
   "version": "3.11.13"
  }
 },
 "nbformat": 4,
 "nbformat_minor": 2
}
